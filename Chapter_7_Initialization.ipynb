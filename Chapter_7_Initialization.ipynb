{
 "cells": [
  {
   "cell_type": "markdown",
   "id": "bd8b618d-5e90-4346-b5cb-a2be0478701a",
   "metadata": {},
   "source": [
    "# first program\n",
    "\n",
    "this works\n"
   ]
  },
  {
   "cell_type": "markdown",
   "id": "fa646ff1-9908-485b-860d-d2f4b3e94507",
   "metadata": {},
   "source": [
    "print('yes')"
   ]
  }
 ],
 "metadata": {
  "kernelspec": {
   "display_name": "Python 3 (ipykernel)",
   "language": "python",
   "name": "python3"
  },
  "language_info": {
   "codemirror_mode": {
    "name": "ipython",
    "version": 3
   },
   "file_extension": ".py",
   "mimetype": "text/x-python",
   "name": "python",
   "nbconvert_exporter": "python",
   "pygments_lexer": "ipython3",
   "version": "3.12.7"
  }
 },
 "nbformat": 4,
 "nbformat_minor": 5
}
